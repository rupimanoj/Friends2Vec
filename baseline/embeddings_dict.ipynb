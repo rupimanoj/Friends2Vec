{
 "cells": [
  {
   "cell_type": "code",
   "execution_count": 5,
   "metadata": {},
   "outputs": [],
   "source": [
    "import numpy as np"
   ]
  },
  {
   "cell_type": "code",
   "execution_count": 6,
   "metadata": {},
   "outputs": [],
   "source": [
    "friends_dict = {}\n",
    "with open(\"./data/yelp/node2vec_final.embeddings\") as fp:\n",
    "    line = fp.readline()\n",
    "    users, emb_size = line.split()\n",
    "    line = fp.readline()\n",
    "    while line:\n",
    "        emeddings = line.split()\n",
    "        friends_dict.update({int(emeddings[0]): np.array(emeddings[1:]).astype(float)})\n",
    "        line = fp.readline()"
   ]
  },
  {
   "cell_type": "code",
   "execution_count": 7,
   "metadata": {},
   "outputs": [
    {
     "name": "stdout",
     "output_type": "stream",
     "text": [
      "122824 64 (64,) 122824\n"
     ]
    }
   ],
   "source": [
    "print(users, emb_size, friends_dict[0].shape, len(friends_dict))"
   ]
  },
  {
   "cell_type": "code",
   "execution_count": 8,
   "metadata": {},
   "outputs": [],
   "source": [
    "np.save(\"data/yelp/node2vec_embeddings.npy\", friends_dict)"
   ]
  }
 ],
 "metadata": {
  "kernelspec": {
   "display_name": "base",
   "language": "python",
   "name": "base"
  },
  "language_info": {
   "codemirror_mode": {
    "name": "ipython",
    "version": 3
   },
   "file_extension": ".py",
   "mimetype": "text/x-python",
   "name": "python",
   "nbconvert_exporter": "python",
   "pygments_lexer": "ipython3",
   "version": "3.7.3"
  }
 },
 "nbformat": 4,
 "nbformat_minor": 2
}
