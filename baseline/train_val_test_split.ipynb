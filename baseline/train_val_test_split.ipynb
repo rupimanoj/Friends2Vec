{
 "cells": [
  {
   "cell_type": "code",
   "execution_count": 1,
   "metadata": {},
   "outputs": [],
   "source": [
    "import pandas as pd\n",
    "import numpy as np"
   ]
  },
  {
   "cell_type": "code",
   "execution_count": 2,
   "metadata": {},
   "outputs": [],
   "source": [
    "yelp_test_path = 'data/yelp2/yelp.test.rating'\n",
    "yelp_test_rating = pd.read_csv(yelp_test_path, sep='\\t', header=None, names=['uid', 'rid', 'rating'],  engine='python')\n",
    "subset = yelp_test_rating[['uid', 'rid', 'rating']]\n",
    "yelp_test_ratings = np.array([list(x) for x in subset.values])\n",
    "np.save(\"data/yelp2/test_ratings.npy\", yelp_test_ratings)"
   ]
  },
  {
   "cell_type": "code",
   "execution_count": 3,
   "metadata": {},
   "outputs": [],
   "source": [
    "yelp_val_path = 'data/yelp2/yelp.valid.rating'\n",
    "yelp_val_rating = pd.read_csv(yelp_val_path, sep='\\t', header=None, names=['uid', 'rid', 'rating'],  engine='python')\n",
    "subset = yelp_val_rating[['uid', 'rid', 'rating']]\n",
    "yelp_val_ratings = np.array([list(x) for x in subset.values])\n",
    "np.save(\"data/yelp2/val_ratings.npy\", yelp_val_ratings)"
   ]
  },
  {
   "cell_type": "code",
   "execution_count": 4,
   "metadata": {},
   "outputs": [],
   "source": [
    "yelp_train_path = 'data/yelp2/yelp.train.rating'\n",
    "yelp_train_rating = pd.read_csv(yelp_train_path, sep='\\t', header=None, names=['uid', 'rid', 'rating'],  engine='python')\n",
    "subset = yelp_train_rating[['uid', 'rid', 'rating']]\n",
    "yelp_train_ratings = np.array([list(x) for x in subset.values])\n",
    "np.save(\"data/yelp2/train_ratings.npy\", yelp_train_ratings)"
   ]
  },
  {
   "cell_type": "code",
   "execution_count": 5,
   "metadata": {},
   "outputs": [],
   "source": [
    "yelp_train_ratings = np.load(\"data/yelp2/train_ratings.npy\")"
   ]
  },
  {
   "cell_type": "code",
   "execution_count": 6,
   "metadata": {},
   "outputs": [
    {
     "data": {
      "text/plain": [
       "1461050"
      ]
     },
     "execution_count": 6,
     "metadata": {},
     "output_type": "execute_result"
    }
   ],
   "source": [
    "len(yelp_train_ratings)"
   ]
  },
  {
   "cell_type": "code",
   "execution_count": 7,
   "metadata": {},
   "outputs": [],
   "source": [
    "yelp_test_ratings = np.load(\"data/yelp2/test_ratings.npy\")"
   ]
  },
  {
   "cell_type": "code",
   "execution_count": 8,
   "metadata": {},
   "outputs": [
    {
     "data": {
      "text/plain": [
       "551557"
      ]
     },
     "execution_count": 8,
     "metadata": {},
     "output_type": "execute_result"
    }
   ],
   "source": [
    "len(yelp_test_ratings)"
   ]
  },
  {
   "cell_type": "code",
   "execution_count": 9,
   "metadata": {},
   "outputs": [],
   "source": [
    "yelp_test_ratings = np.load(\"data/yelp2/val_ratings.npy\")"
   ]
  },
  {
   "cell_type": "code",
   "execution_count": 10,
   "metadata": {},
   "outputs": [
    {
     "data": {
      "text/plain": [
       "503278"
      ]
     },
     "execution_count": 10,
     "metadata": {},
     "output_type": "execute_result"
    }
   ],
   "source": [
    "len(yelp_val_ratings)"
   ]
  }
 ],
 "metadata": {
  "kernelspec": {
   "display_name": "base",
   "language": "python",
   "name": "base"
  },
  "language_info": {
   "codemirror_mode": {
    "name": "ipython",
    "version": 3
   },
   "file_extension": ".py",
   "mimetype": "text/x-python",
   "name": "python",
   "nbconvert_exporter": "python",
   "pygments_lexer": "ipython3",
   "version": "3.7.3"
  }
 },
 "nbformat": 4,
 "nbformat_minor": 2
}
