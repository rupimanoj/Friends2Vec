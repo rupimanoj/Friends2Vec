{
 "cells": [
  {
   "cell_type": "code",
   "execution_count": 3,
   "metadata": {},
   "outputs": [],
   "source": [
    "import pandas as pd\n",
    "import numpy as np"
   ]
  },
  {
   "cell_type": "code",
   "execution_count": 4,
   "metadata": {},
   "outputs": [],
   "source": [
    "ml1m_dir = 'data/yelp/.txt'\n",
    "ml1m_rating = pd.read_csv(ml1m_dir, sep='\\t', header=None, names=['uid', 'rid', 'rating'],  engine='python')"
   ]
  },
  {
   "cell_type": "code",
   "execution_count": 5,
   "metadata": {},
   "outputs": [],
   "source": [
    "user_id = ml1m_rating[['uid']].drop_duplicates()\n",
    "item_id = ml1m_rating[['rid']].drop_duplicates()"
   ]
  },
  {
   "cell_type": "code",
   "execution_count": 6,
   "metadata": {},
   "outputs": [],
   "source": [
    "num_users = user_id['uid'].max() - user_id['uid'].min() + 1\n",
    "num_items = item_id['rid'].max() - item_id['rid'].min() + 1"
   ]
  },
  {
   "cell_type": "code",
   "execution_count": 7,
   "metadata": {},
   "outputs": [
    {
     "name": "stdout",
     "output_type": "stream",
     "text": [
      "122824 28007\n"
     ]
    }
   ],
   "source": [
    "print(num_users, num_items)"
   ]
  },
  {
   "cell_type": "code",
   "execution_count": 8,
   "metadata": {},
   "outputs": [],
   "source": [
    "subset = ml1m_rating[['uid', 'rid', 'rating']]\n",
    "user_item_pairs = np.array([list(x)[0:2] for x in subset.values])\n",
    "ratings = np.array([list(x)[2:3] for x in subset.values])"
   ]
  },
  {
   "cell_type": "code",
   "execution_count": 9,
   "metadata": {},
   "outputs": [],
   "source": [
    "total_ratings = np.array([list(x) for x in subset.values])"
   ]
  },
  {
   "cell_type": "code",
   "execution_count": 10,
   "metadata": {},
   "outputs": [],
   "source": [
    "np.save(\"total_ratings.npy\", total_ratings)"
   ]
  },
  {
   "cell_type": "code",
   "execution_count": 11,
   "metadata": {},
   "outputs": [],
   "source": [
    "all_ratings = list(np.load(\"total_ratings.npy\"))"
   ]
  },
  {
   "cell_type": "code",
   "execution_count": 12,
   "metadata": {},
   "outputs": [],
   "source": [
    "user_ratings_dict = {}"
   ]
  },
  {
   "cell_type": "code",
   "execution_count": 13,
   "metadata": {},
   "outputs": [],
   "source": [
    "for rating in all_ratings:\n",
    "    rating = list(rating)\n",
    "    u_id = rating[0]\n",
    "    if u_id in user_ratings_dict.keys():\n",
    "        user_ratings_dict[u_id].append(rating)\n",
    "    else:\n",
    "        user_ratings_dict.update({u_id:([rating])})"
   ]
  },
  {
   "cell_type": "code",
   "execution_count": 14,
   "metadata": {},
   "outputs": [],
   "source": [
    "train_ratings = []\n",
    "val_ratings = []\n",
    "test_ratings = []\n",
    "for key,val in user_ratings_dict.items():\n",
    "    length = len(val)\n",
    "    ratings = (val)\n",
    "    train_ratings += (ratings[0: int(0.6 * length)+1])\n",
    "    val_ratings += (ratings[int(0.6 * length)+1: int(0.8 * length)+1])\n",
    "    test_ratings += (ratings[int(0.8 * length)+1: int(1.0 * length)+1])"
   ]
  },
  {
   "cell_type": "code",
   "execution_count": 15,
   "metadata": {},
   "outputs": [],
   "source": [
    "np.save(\"train_ratings.npy\", train_ratings)\n",
    "np.save(\"test_ratings.npy\", test_ratings)\n",
    "np.save(\"val_ratings.npy\", val_ratings)"
   ]
  }
 ],
 "metadata": {
  "kernelspec": {
   "display_name": "base",
   "language": "python",
   "name": "base"
  },
  "language_info": {
   "codemirror_mode": {
    "name": "ipython",
    "version": 3
   },
   "file_extension": ".py",
   "mimetype": "text/x-python",
   "name": "python",
   "nbconvert_exporter": "python",
   "pygments_lexer": "ipython3",
   "version": "3.7.3"
  }
 },
 "nbformat": 4,
 "nbformat_minor": 2
}
