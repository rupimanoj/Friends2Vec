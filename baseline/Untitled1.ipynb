{
 "cells": [
  {
   "cell_type": "markdown",
   "metadata": {},
   "source": [
    "### NeuMF on less test and valid data"
   ]
  },
  {
   "cell_type": "markdown",
   "metadata": {},
   "source": [
    "train mse loss =>  2.0925040843983993 val mse loss =>  1.826724066453473\n",
    "running epoch  1\n",
    "train mse loss =>  1.3736055020416948 val mse loss =>  1.5246680023304715\n",
    "running epoch  2\n",
    "train mse loss =>  1.1947567357797604 val mse loss =>  1.4640836185916488\n",
    "running epoch  3\n",
    "train mse loss =>  1.1542554382059538 val mse loss =>  1.452479722134367\n",
    "running epoch  4\n",
    "train mse loss =>  1.1299274069102143 val mse loss =>  1.4514484848971039\n",
    "running epoch  5\n",
    "train mse loss =>  1.101578748978171 val mse loss =>  1.455236423131443"
   ]
  },
  {
   "cell_type": "code",
   "execution_count": null,
   "metadata": {},
   "outputs": [],
   "source": []
  }
 ],
 "metadata": {
  "kernelspec": {
   "display_name": "base",
   "language": "python",
   "name": "base"
  },
  "language_info": {
   "codemirror_mode": {
    "name": "ipython",
    "version": 3
   },
   "file_extension": ".py",
   "mimetype": "text/x-python",
   "name": "python",
   "nbconvert_exporter": "python",
   "pygments_lexer": "ipython3",
   "version": "3.7.3"
  }
 },
 "nbformat": 4,
 "nbformat_minor": 2
}
