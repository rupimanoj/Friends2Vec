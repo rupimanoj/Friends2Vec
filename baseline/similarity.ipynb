{
 "cells": [
  {
   "cell_type": "code",
   "execution_count": 1,
   "metadata": {},
   "outputs": [],
   "source": [
    "import numpy as np"
   ]
  },
  {
   "cell_type": "code",
   "execution_count": 59,
   "metadata": {},
   "outputs": [],
   "source": [
    "friendsList = np.load('friends_dict.npy')\n"
   ]
  },
  {
   "cell_type": "code",
   "execution_count": 17,
   "metadata": {},
   "outputs": [
    {
     "name": "stdout",
     "output_type": "stream",
     "text": [
      "<class 'numpy.ndarray'>\n",
      "122824\n"
     ]
    }
   ],
   "source": [
    "print(type(friendsList))\n",
    "print(len(friendsList.item()))\n"
   ]
  },
  {
   "cell_type": "code",
   "execution_count": 18,
   "metadata": {},
   "outputs": [
    {
     "data": {
      "text/plain": [
       "[15559, 24437, 29601]"
      ]
     },
     "execution_count": 18,
     "metadata": {},
     "output_type": "execute_result"
    }
   ],
   "source": [
    "friendsList.item()[21135]"
   ]
  },
  {
   "cell_type": "code",
   "execution_count": 19,
   "metadata": {},
   "outputs": [],
   "source": [
    "embeddings = np.load('node2vec_embeddings.npy')"
   ]
  },
  {
   "cell_type": "code",
   "execution_count": 50,
   "metadata": {},
   "outputs": [],
   "source": [
    "from scipy import spatial\n",
    "def cosine(id1, id2):\n",
    "    emb1 = embeddings.item()[id1]\n",
    "    emb2 = embeddings.item()[id2]\n",
    "    return 1- scipy.spatial.distance.cosine(emb1, emb2)"
   ]
  },
  {
   "cell_type": "code",
   "execution_count": 51,
   "metadata": {},
   "outputs": [
    {
     "name": "stdout",
     "output_type": "stream",
     "text": [
      "0.25180992364992894\n",
      "0.22149381767319076\n",
      "0.8053595286437472\n"
     ]
    }
   ],
   "source": [
    "print(cosine(21135, 24437))\n",
    "print(cosine(21135, 15559))\n",
    "print( cosine(21135, 29601))"
   ]
  },
  {
   "cell_type": "code",
   "execution_count": 55,
   "metadata": {},
   "outputs": [
    {
     "name": "stdout",
     "output_type": "stream",
     "text": [
      "0.046829108775599204\n",
      "-0.037573748413828545\n"
     ]
    }
   ],
   "source": [
    "print(cosine(21135,106047))\n",
    "print(cosine(21135,88628))"
   ]
  },
  {
   "cell_type": "code",
   "execution_count": 34,
   "metadata": {},
   "outputs": [],
   "source": [
    "deepEmbeddings = np.load('deepwalk_embeddings.npy')"
   ]
  },
  {
   "cell_type": "code",
   "execution_count": 52,
   "metadata": {},
   "outputs": [],
   "source": [
    "from scipy import spatial\n",
    "def dcosine(id1, id2):\n",
    "    emb1 = deepEmbeddings.item()[id1]\n",
    "    emb2 = deepEmbeddings.item()[id2]\n",
    "    return 1 - scipy.spatial.distance.cosine(emb1, emb2)"
   ]
  },
  {
   "cell_type": "code",
   "execution_count": 53,
   "metadata": {},
   "outputs": [
    {
     "name": "stdout",
     "output_type": "stream",
     "text": [
      "0.6027391611323476\n",
      "0.6058147754213651\n",
      "0.7625176549655556\n"
     ]
    }
   ],
   "source": [
    "print(dcosine(21135, 24437))\n",
    "print(dcosine(21135, 15559))\n",
    "print(dcosine(21135, 29601))"
   ]
  },
  {
   "cell_type": "code",
   "execution_count": 56,
   "metadata": {},
   "outputs": [
    {
     "name": "stdout",
     "output_type": "stream",
     "text": [
      "0.032579435786402766\n",
      "-0.1481872855486137\n"
     ]
    }
   ],
   "source": [
    "print(dcosine(21135, 106047))\n",
    "print(dcosine(21135, 88628))"
   ]
  },
  {
   "cell_type": "code",
   "execution_count": 47,
   "metadata": {},
   "outputs": [],
   "source": [
    "from numpy import dot\n",
    "from numpy.linalg import norm\n",
    "def similarity(a, b):\n",
    "    cos_sim = dot(a, b)/(norm(a)*norm(b))\n",
    "    return cos_sim"
   ]
  },
  {
   "cell_type": "code",
   "execution_count": 57,
   "metadata": {},
   "outputs": [
    {
     "name": "stdout",
     "output_type": "stream",
     "text": [
      "0.6027391611323475\n",
      "0.03257943578640278\n"
     ]
    }
   ],
   "source": [
    "print(similarity(deepEmbeddings.item()[24437], deepEmbeddings.item()[21135]))\n",
    "print(similarity(deepEmbeddings.item()[106047], deepEmbeddings.item()[21135]))"
   ]
  },
  {
   "cell_type": "code",
   "execution_count": 58,
   "metadata": {},
   "outputs": [
    {
     "name": "stdout",
     "output_type": "stream",
     "text": [
      "0.2518099236499289\n",
      "0.04682910877559923\n"
     ]
    }
   ],
   "source": [
    "print(similarity(embeddings.item()[24437], embeddings.item()[21135]))\n",
    "print(similarity(embeddings.item()[106047], embeddings.item()[21135]))"
   ]
  },
  {
   "cell_type": "code",
   "execution_count": null,
   "metadata": {},
   "outputs": [],
   "source": []
  }
 ],
 "metadata": {
  "kernelspec": {
   "display_name": "Python 3",
   "language": "python",
   "name": "python3"
  },
  "language_info": {
   "codemirror_mode": {
    "name": "ipython",
    "version": 3
   },
   "file_extension": ".py",
   "mimetype": "text/x-python",
   "name": "python",
   "nbconvert_exporter": "python",
   "pygments_lexer": "ipython3",
   "version": "3.6.8"
  }
 },
 "nbformat": 4,
 "nbformat_minor": 2
}
