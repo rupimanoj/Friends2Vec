{
 "cells": [
  {
   "cell_type": "code",
   "execution_count": 6,
   "metadata": {},
   "outputs": [],
   "source": [
    "# import io\n",
    "# import ijson\n",
    "# city_name = \"Phoenix\"\n",
    "# out_file = \"outfile.json\"\n",
    "# f = open(out_file,\"w+\", encoding=\"utf-8\")\n",
    "# with open(\"./yelp_dataset/business.json\", encoding=\"UTF-8\") as json_file:\n",
    "#     cursor = 0\n",
    "#     for line_number, line in enumerate(json_file):\n",
    "#         line_as_file = io.StringIO(line)\n",
    "#         json_parser = ijson.parse(line_as_file)\n",
    "#         for prefix, type, value in json_parser:\n",
    "#             if(prefix == 'city' and value == city_name):\n",
    "#                 f.write(line)\n",
    "#             #print (\"prefix=\",prefix, \"type=\",type, \"value=\",value)\n",
    "#         cursor += len(line)\n",
    "# f.close()"
   ]
  },
  {
   "cell_type": "code",
   "execution_count": 2,
   "metadata": {},
   "outputs": [],
   "source": [
    "import io\n",
    "import ijson\n",
    "phoenix_business_ids_dict = {}\n",
    "with open(\"./yelp_dataset/Phoenix_business.json\", encoding=\"UTF-8\") as json_file:\n",
    "    for line_number, line in enumerate(json_file):\n",
    "        line_as_file = io.StringIO(line)\n",
    "        json_parser = ijson.parse(line_as_file)\n",
    "        for prefix, type, value in json_parser:\n",
    "            if(prefix == 'business_id'):\n",
    "                phoenix_business_ids_dict.update({value: 1})"
   ]
  },
  {
   "cell_type": "code",
   "execution_count": 2,
   "metadata": {},
   "outputs": [],
   "source": [
    "# out_file = \"./yelp_dataset/pheonix_review.json\"\n",
    "# f = open(out_file,\"w+\", encoding=\"utf-8\")\n",
    "# with open(\"./yelp_dataset/review.json\", encoding=\"UTF-8\") as json_file:\n",
    "#     for line_number, line in enumerate(json_file):\n",
    "#         line_as_file = io.StringIO(line)\n",
    "#         json_parser = ijson.parse(line_as_file)\n",
    "#         for prefix, type, value in json_parser:\n",
    "#             if(prefix == 'business_id' and value in phoenix_business_ids_dict.keys()):\n",
    "#                 f.write(line)\n",
    "#                 break\n",
    "# f.close()"
   ]
  },
  {
   "cell_type": "code",
   "execution_count": 17,
   "metadata": {},
   "outputs": [],
   "source": [
    "import io\n",
    "import ijson\n",
    "phoenix_user_ids_dict = {}\n",
    "phoenix_business_ids_dict = {}\n",
    "total_no_of_reviews = 0\n",
    "with open(\"./yelp_dataset/Phoenix_reviews.json\", encoding=\"UTF-8\") as json_file:\n",
    "    for line_number, line in enumerate(json_file):\n",
    "        line_as_file = io.StringIO(line)\n",
    "        json_parser = ijson.parse(line_as_file)\n",
    "        total_no_of_reviews += 1\n",
    "        for prefix, type, value in json_parser:\n",
    "            if(prefix == 'user_id'):\n",
    "                if value in phoenix_user_ids_dict.keys():\n",
    "                    phoenix_user_ids_dict[value] += 1\n",
    "                else:\n",
    "                    phoenix_user_ids_dict.update({value: 1})\n",
    "            elif(prefix == 'business_id'):\n",
    "                if value in phoenix_business_ids_dict.keys():\n",
    "                    phoenix_business_ids_dict[value] += 1\n",
    "                else:\n",
    "                    phoenix_business_ids_dict.update({value: 1})"
   ]
  },
  {
   "cell_type": "code",
   "execution_count": 18,
   "metadata": {},
   "outputs": [
    {
     "data": {
      "text/plain": [
       "734136"
      ]
     },
     "execution_count": 18,
     "metadata": {},
     "output_type": "execute_result"
    }
   ],
   "source": [
    "total_no_of_reviews"
   ]
  },
  {
   "cell_type": "code",
   "execution_count": 8,
   "metadata": {
    "scrolled": true
   },
   "outputs": [
    {
     "data": {
      "text/plain": [
       "253152"
      ]
     },
     "execution_count": 8,
     "metadata": {},
     "output_type": "execute_result"
    }
   ],
   "source": [
    "len(phoenix_user_ids_dict)"
   ]
  },
  {
   "cell_type": "code",
   "execution_count": 6,
   "metadata": {
    "scrolled": true
   },
   "outputs": [
    {
     "data": {
      "text/plain": [
       "18766"
      ]
     },
     "execution_count": 6,
     "metadata": {},
     "output_type": "execute_result"
    }
   ],
   "source": [
    "len(phoenix_business_ids_dict)"
   ]
  },
  {
   "cell_type": "code",
   "execution_count": 20,
   "metadata": {},
   "outputs": [
    {
     "data": {
      "text/plain": [
       "(3, 2662)"
      ]
     },
     "execution_count": 20,
     "metadata": {},
     "output_type": "execute_result"
    }
   ],
   "source": [
    "min(phoenix_business_ids_dict.values()), max(phoenix_business_ids_dict.values())"
   ]
  },
  {
   "cell_type": "code",
   "execution_count": 49,
   "metadata": {},
   "outputs": [
    {
     "data": {
      "text/plain": [
       "(1, 721)"
      ]
     },
     "execution_count": 49,
     "metadata": {},
     "output_type": "execute_result"
    }
   ],
   "source": [
    "min(phoenix_user_ids_dict.values()), max(phoenix_user_ids_dict.values())"
   ]
  },
  {
   "cell_type": "code",
   "execution_count": 21,
   "metadata": {
    "scrolled": true
   },
   "outputs": [
    {
     "data": {
      "text/plain": [
       "580"
      ]
     },
     "execution_count": 21,
     "metadata": {},
     "output_type": "execute_result"
    }
   ],
   "source": [
    "len(set(phoenix_business_ids_dict.values()))"
   ]
  },
  {
   "cell_type": "code",
   "execution_count": 22,
   "metadata": {},
   "outputs": [
    {
     "data": {
      "text/plain": [
       "237"
      ]
     },
     "execution_count": 22,
     "metadata": {},
     "output_type": "execute_result"
    }
   ],
   "source": [
    "len(set(phoenix_user_ids_dict.values()))"
   ]
  },
  {
   "cell_type": "code",
   "execution_count": 47,
   "metadata": {},
   "outputs": [
    {
     "data": {
      "text/plain": [
       "<matplotlib.axes._subplots.AxesSubplot at 0x21bc767b6d8>"
      ]
     },
     "execution_count": 47,
     "metadata": {},
     "output_type": "execute_result"
    },
    {
     "data": {
      "image/png": "[encoded data removed]",
      "text/plain": [
       "<Figure size 432x288 with 1 Axes>"
      ]
     },
     "metadata": {
      "needs_background": "light"
     },
     "output_type": "display_data"
    }
   ],
   "source": [
    "import pandas as pd\n",
    "import numpy as np\n",
    "import matplotlib\n",
    "d = [ele for ele in list(phoenix_business_ids_dict.values()) if ele > 10]\n",
    "data = pd.Series(np.array(d))\n",
    "data.hist(bins = 10)"
   ]
  },
  {
   "cell_type": "code",
   "execution_count": 55,
   "metadata": {},
   "outputs": [
    {
     "data": {
      "text/plain": [
       "<matplotlib.axes._subplots.AxesSubplot at 0x21bc8d86be0>"
      ]
     },
     "execution_count": 55,
     "metadata": {},
     "output_type": "execute_result"
    },
    {
     "data": {
      "image/png": "[encoded data removed]",
      "text/plain": [
       "<Figure size 432x288 with 1 Axes>"
      ]
     },
     "metadata": {
      "needs_background": "light"
     },
     "output_type": "display_data"
    }
   ],
   "source": [
    "import pandas as pd\n",
    "import numpy as np\n",
    "import matplotlib\n",
    "d = [ele for ele in list(phoenix_user_ids_dict.values()) if ele > 3]\n",
    "data = pd.Series(np.array(d))\n",
    "data.hist(bins = 10)"
   ]
  },
  {
   "cell_type": "code",
   "execution_count": 57,
   "metadata": {},
   "outputs": [
    {
     "data": {
      "text/plain": [
       "59428"
      ]
     },
     "execution_count": 57,
     "metadata": {},
     "output_type": "execute_result"
    }
   ],
   "source": [
    "mod_phoenix_user_ids_dict = {}\n",
    "for key, val in phoenix_user_ids_dict.items():\n",
    "    if val >= 3:\n",
    "        mod_phoenix_user_ids_dict[key] = val\n",
    "len(mod_phoenix_user_ids_dict)"
   ]
  },
  {
   "cell_type": "code",
   "execution_count": 58,
   "metadata": {},
   "outputs": [
    {
     "data": {
      "text/plain": [
       "9931"
      ]
     },
     "execution_count": 58,
     "metadata": {},
     "output_type": "execute_result"
    }
   ],
   "source": [
    "mod_phoenix_business_ids_dict = {}\n",
    "for key, val in phoenix_business_ids_dict.items():\n",
    "    if val >= 10:\n",
    "        mod_phoenix_business_ids_dict[key] = val\n",
    "len(mod_phoenix_business_ids_dict)"
   ]
  },
  {
   "cell_type": "code",
   "execution_count": 65,
   "metadata": {},
   "outputs": [],
   "source": [
    "user_cnt = 0\n",
    "user_id_mapping, rev_user_id_mapping = {}, {}\n",
    "for key in mod_phoenix_user_ids_dict.keys():\n",
    "    user_id_mapping[key] = user_cnt\n",
    "    rev_user_id_mapping[user_cnt] = key\n",
    "    user_cnt += 1 "
   ]
  },
  {
   "cell_type": "code",
   "execution_count": 66,
   "metadata": {},
   "outputs": [],
   "source": [
    "restro_cnt = 0\n",
    "restro_id_mapping, rev_restro_id_mapping = {}, {}\n",
    "for key in mod_phoenix_business_ids_dict.keys():\n",
    "    restro_id_mapping[key] = restro_cnt\n",
    "    rev_restro_id_mapping[restro_cnt] = key\n",
    "    restro_cnt += 1 "
   ]
  },
  {
   "cell_type": "code",
   "execution_count": 67,
   "metadata": {},
   "outputs": [],
   "source": [
    "ratings_file = \"./yelp_dataset/ratings.txt\"\n",
    "f = open(ratings_file,\"w+\", encoding=\"utf-8\")\n",
    "with open(\"./yelp_dataset/Phoenix_reviews.json\", encoding=\"UTF-8\") as json_file:\n",
    "    for line_number, line in enumerate(json_file):\n",
    "        line_as_file = io.StringIO(line)\n",
    "        json_parser = ijson.parse(line_as_file)\n",
    "        total_no_of_reviews += 1\n",
    "        user_id = \"\"\n",
    "        business_id = \"\"\n",
    "        ratings = 0\n",
    "        for prefix, type, value in json_parser:\n",
    "            if(prefix == 'user_id'):\n",
    "                if value in mod_phoenix_user_ids_dict.keys():\n",
    "                    user_id = value\n",
    "            elif(prefix == 'business_id'):\n",
    "                if value in mod_phoenix_business_ids_dict.keys():\n",
    "                    business_id = value\n",
    "            elif(prefix == 'stars'):\n",
    "                    ratings = value\n",
    "        if len(user_id) != 0 and len(business_id) != 0:\n",
    "            f.write(str(user_id_mapping[user_id]) + \"\\t\" + str(restro_id_mapping[business_id]) + \"\\t\" + str(ratings) + \"\\n\")                "
   ]
  },
  {
   "cell_type": "code",
   "execution_count": 81,
   "metadata": {},
   "outputs": [],
   "source": [
    "out_file = \"./yelp_dataset/Phoenix_users.json\"\n",
    "f = open(out_file,\"w+\", encoding=\"utf-8\")\n",
    "with open(\"./yelp_dataset/user.json\", encoding=\"UTF-8\") as json_file:\n",
    "    for line_number, line in enumerate(json_file):\n",
    "        line_as_file = io.StringIO(line)\n",
    "        json_parser = ijson.parse(line_as_file)\n",
    "        for prefix, type, value in json_parser:\n",
    "            if(prefix == 'user_id' and value in mod_phoenix_user_ids_dict.keys()):\n",
    "                f.write(line)\n",
    "f.close()"
   ]
  },
  {
   "cell_type": "code",
   "execution_count": 100,
   "metadata": {},
   "outputs": [],
   "source": [
    "friends_id_dict = {}\n",
    "with open(\"./yelp_dataset/Phoenix_users.json\", encoding=\"UTF-8\") as json_file:\n",
    "    for line_number, line in enumerate(json_file):\n",
    "        line_as_file = io.StringIO(line)\n",
    "        json_parser = ijson.parse(line_as_file)\n",
    "        friends = []\n",
    "        user_id = \"\"\n",
    "        for prefix, type, value in json_parser:\n",
    "            if(prefix == \"friends\"):\n",
    "                friend_ids = value.split(\",\")\n",
    "                for friend in friend_ids:\n",
    "                    if friend.strip() in user_id_mapping.keys():\n",
    "                        friends += [user_id_mapping[friend.strip()]]\n",
    "            if(prefix == \"user_id\"):\n",
    "                user_id = value\n",
    "        friends_id_dict[user_id_mapping[user_id]] = friends\n",
    "f.close()"
   ]
  },
  {
   "cell_type": "code",
   "execution_count": 119,
   "metadata": {},
   "outputs": [],
   "source": [
    "import numpy as np\n",
    "np.save(\"friends_dict.npy\", friends_id_dict)\n",
    "np.save(\"business_id_dict.npy\", restro_id_mapping)\n",
    "np.save(\"users_id_dict.npy\", user_id_mapping)\n",
    "np.save(\"rev_business_id_dict.npy\", rev_restro_id_mapping)\n",
    "np.save(\"rev_users_id_dict.npy\", rev_user_id_mapping)\n",
    "np.save(\"business_review_count_dict.npy\", mod_phoenix_business_ids_dict)\n",
    "np.save(\"users_review_count_dict.npy\", mod_phoenix_user_ids_dict)"
   ]
  },
  {
   "cell_type": "code",
   "execution_count": null,
   "metadata": {},
   "outputs": [],
   "source": []
  }
 ],
 "metadata": {
  "kernelspec": {
   "display_name": "ir_proj",
   "language": "python",
   "name": "ir_proj"
  },
  "language_info": {
   "codemirror_mode": {
    "name": "ipython",
    "version": 3
   },
   "file_extension": ".py",
   "mimetype": "text/x-python",
   "name": "python",
   "nbconvert_exporter": "python",
   "pygments_lexer": "ipython3",
   "version": "3.7.3"
  }
 },
 "nbformat": 4,
 "nbformat_minor": 2
}
